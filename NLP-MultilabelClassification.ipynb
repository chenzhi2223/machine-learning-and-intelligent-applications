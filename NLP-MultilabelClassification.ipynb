{
 "cells": [
  {
   "cell_type": "markdown",
   "metadata": {},
   "source": [
    "# Predict tags on StackOverflow with linear models"
   ]
  },
  {
   "cell_type": "markdown",
   "metadata": {},
   "source": [
    "In this assignment you will learn how to predict tags for posts from [StackOverflow](https://stackoverflow.com). To solve this task you will use multilabel classification approach.\n",
    "\n",
    "### Libraries\n",
    "\n",
    "In this task you will need the following libraries:\n",
    "- [Numpy](http://www.numpy.org) — a package for scientific computing.\n",
    "- [Pandas](https://pandas.pydata.org) — a library providing high-performance, easy-to-use data structures and data analysis tools for the Python\n",
    "- [scikit-learn](http://scikit-learn.org/stable/index.html) — a tool for data mining and data analysis.\n",
    "- [NLTK](http://www.nltk.org) — a platform to work with natural language."
   ]
  },
  {
   "cell_type": "markdown",
   "metadata": {},
   "source": [
    "### Data\n",
    "\n",
    "The following cell will download all data required for this assignment into the folder `week1/data`."
   ]
  },
  {
   "cell_type": "code",
   "execution_count": 159,
   "metadata": {
    "collapsed": true
   },
   "outputs": [],
   "source": [
    "import sys\n",
    "sys.path.append(\"..\")\n",
    "#from common.download_utils import download_week1_resources\n",
    "\n",
    "#download_week1_resources()"
   ]
  },
  {
   "cell_type": "markdown",
   "metadata": {},
   "source": [
    "### Grading\n",
    "We will create a grader instace below and use it to collect your answers. Note that these outputs will be stored locally inside grader and will be uploaded to platform only after running submiting function in the last part of this assignment. If you want to make partial submission, you can run that cell any time you want."
   ]
  },
  {
   "cell_type": "code",
   "execution_count": 160,
   "metadata": {
    "collapsed": true
   },
   "outputs": [],
   "source": [
    "from grader import Grader"
   ]
  },
  {
   "cell_type": "code",
   "execution_count": 161,
   "metadata": {
    "collapsed": true
   },
   "outputs": [],
   "source": [
    "grader = Grader()"
   ]
  },
  {
   "cell_type": "markdown",
   "metadata": {},
   "source": [
    "### Text preprocessing"
   ]
  },
  {
   "cell_type": "markdown",
   "metadata": {},
   "source": [
    "For this and most of the following assignments you will need to use a list of stop words. It can be downloaded from *nltk*:"
   ]
  },
  {
   "cell_type": "code",
   "execution_count": 162,
   "metadata": {
    "collapsed": true,
    "scrolled": true
   },
   "outputs": [],
   "source": [
    "import nltk\n",
    "#nltk.download('stopwords')\n",
    "from nltk.corpus import stopwords"
   ]
  },
  {
   "cell_type": "markdown",
   "metadata": {},
   "source": [
    "In this task you will deal with a dataset of post titles from StackOverflow. You are provided a split to 3 sets: *train*, *validation* and *test*. All corpora (except for *test*) contain titles of the posts and corresponding tags (100 tags are available). The *test* set is provided for Coursera's grading and doesn't contain answers. Upload the corpora using *pandas* and look at the data:"
   ]
  },
  {
   "cell_type": "code",
   "execution_count": 163,
   "metadata": {
    "collapsed": true
   },
   "outputs": [],
   "source": [
    "from ast import literal_eval\n",
    "import pandas as pd\n",
    "import numpy as np"
   ]
  },
  {
   "cell_type": "code",
   "execution_count": 164,
   "metadata": {
    "collapsed": true
   },
   "outputs": [],
   "source": [
    "def read_data(filename):\n",
    "    data = pd.read_csv(filename, sep='\\t')\n",
    "    data['tags'] = data['tags'].apply(literal_eval)\n",
    "    return data"
   ]
  },
  {
   "cell_type": "code",
   "execution_count": 165,
   "metadata": {
    "collapsed": true
   },
   "outputs": [],
   "source": [
    "train = read_data('data/train.tsv')\n",
    "validation = read_data('data/validation.tsv')\n",
    "test = pd.read_csv('data/test.tsv', sep='\\t')"
   ]
  },
  {
   "cell_type": "code",
   "execution_count": 151,
   "metadata": {},
   "outputs": [
    {
     "name": "stdout",
     "output_type": "stream",
     "text": [
      "                                               title          tags\n",
      "0                How to draw a stacked dotplot in R?           [r]\n",
      "1  mysql select all records where a datetime fiel...  [php, mysql]\n",
      "True\n"
     ]
    },
    {
     "data": {
      "text/plain": [
       "100000"
      ]
     },
     "execution_count": 151,
     "metadata": {},
     "output_type": "execute_result"
    }
   ],
   "source": [
    "print(train.head(2))\n",
    "len(set(stopwords.words('english')))  #length of stop words in English in NLTK stopwords list.\n",
    "print('a' in stopwords.words('english'))\n",
    "len(train)"
   ]
  },
  {
   "cell_type": "markdown",
   "metadata": {},
   "source": [
    "As you can see, *title* column contains titles of the posts and *tags* colum countains the tags. It could be noticed that a number of tags for a post is not fixed and could be as many as necessary."
   ]
  },
  {
   "cell_type": "markdown",
   "metadata": {},
   "source": [
    "For a more comfortable usage, initialize *X_train*, *X_val*, *X_test*, *y_train*, *y_val*."
   ]
  },
  {
   "cell_type": "code",
   "execution_count": 166,
   "metadata": {},
   "outputs": [
    {
     "name": "stdout",
     "output_type": "stream",
     "text": [
      "[['r'] ['php', 'mysql'] ['c#'] ['javascript', 'jquery'] ['java']\n",
      " ['ruby-on-rails'] ['ruby', 'ruby-on-rails-3', 'json'] ['ruby']\n",
      " ['java', 'spring', 'spring-mvc'] ['php', 'codeigniter']]\n",
      "['ruby', 'ruby-on-rails-3', 'json']\n"
     ]
    },
    {
     "data": {
      "text/plain": [
       "array(['How to draw a stacked dotplot in R?',\n",
       "       'mysql select all records where a datetime field is less than a specified value',\n",
       "       'How to terminate windows phone 8.1 app'], dtype=object)"
      ]
     },
     "execution_count": 166,
     "metadata": {},
     "output_type": "execute_result"
    }
   ],
   "source": [
    "X_train, y_train = train['title'].values, train['tags'].values\n",
    "X_val, y_val = validation['title'].values, validation['tags'].values\n",
    "X_test = test['title'].values\n",
    "print(y_train[:10])\n",
    "print([tag for tag in y_train[6]])\n",
    "X_train[:3]"
   ]
  },
  {
   "cell_type": "markdown",
   "metadata": {},
   "source": [
    "One of the most known difficulties when working with natural data is that it's unstructured. For example, if you use it \"as is\" and extract tokens just by splitting the titles by whitespaces, you will see that there are many \"weird\" tokens like *3.5?*, *\"Flip*, etc. To prevent the problems, it's usually useful to prepare the data somehow. In this task you'll write a function, which will be also used in the other assignments. \n",
    "\n",
    "**Task 1 (TextPrepare).** Implement the function *text_prepare* following the instructions. After that, run the function *test_test_prepare* to test it on tiny cases and submit it to Coursera."
   ]
  },
  {
   "cell_type": "code",
   "execution_count": 167,
   "metadata": {
    "collapsed": true
   },
   "outputs": [],
   "source": [
    "import re"
   ]
  },
  {
   "cell_type": "code",
   "execution_count": 168,
   "metadata": {
    "collapsed": true
   },
   "outputs": [],
   "source": [
    "REPLACE_BY_SPACE_RE = re.compile('[/(){}\\[\\]\\|@,;]')\n",
    "BAD_SYMBOLS_RE = re.compile('[^0-9a-z #+_]')\n",
    "STOPWORDS = set(stopwords.words('english'))\n",
    "#STOPWORDS = set([stopword for stopword in STOPWORDS if len(stopword)>1])\n",
    "def text_prepare(text):\n",
    "    \"\"\"\n",
    "        text: a string\n",
    "        \n",
    "        return: modified initial string\n",
    "    \"\"\"\n",
    "    text = text.lower()# lowercase text\n",
    "    text = REPLACE_BY_SPACE_RE.sub(' ', text)# replace REPLACE_BY_SPACE_RE symbols by space in text\n",
    "    text = BAD_SYMBOLS_RE.sub('', text)# delete symbols which are in BAD_SYMBOLS_RE from text\n",
    "    #print(text)\n",
    "    #print(re.split(' +',text))\n",
    "    text = ' '.join([word for word in re.split(' +', text) if word not in STOPWORDS]) # delete stopwords from text\n",
    "    #for word in :\n",
    "    #    text = re.sub(stopword+' ', ' ', text)\n",
    "    return text"
   ]
  },
  {
   "cell_type": "code",
   "execution_count": 169,
   "metadata": {
    "collapsed": true
   },
   "outputs": [],
   "source": [
    "def test_text_prepare():\n",
    "    examples = [\"SQL Server - any equivalent of Excel's CHOOSE function?\",\n",
    "                \"How to free c++ memory vector<int> * arr?\"]\n",
    "    answers = [\"sql server equivalent excels choose function\", \n",
    "               \"free c++ memory vectorint arr\"]\n",
    "    for ex, ans in zip(examples, answers):\n",
    "        if text_prepare(ex) != ans:\n",
    "            return \"Wrong answer for the case: '%s'\" % text_prepare(ex)\n",
    "    return 'Basic tests are passed.'"
   ]
  },
  {
   "cell_type": "code",
   "execution_count": 170,
   "metadata": {},
   "outputs": [
    {
     "name": "stdout",
     "output_type": "stream",
     "text": [
      "Basic tests are passed.\n"
     ]
    }
   ],
   "source": [
    "print(test_text_prepare())"
   ]
  },
  {
   "cell_type": "markdown",
   "metadata": {},
   "source": [
    "Run your implementation for questions from file *text_prepare_tests.tsv* to earn the points."
   ]
  },
  {
   "cell_type": "code",
   "execution_count": 171,
   "metadata": {},
   "outputs": [
    {
     "name": "stdout",
     "output_type": "stream",
     "text": [
      "SQLite/PHP read-only?\n",
      "\n",
      "sqlite php readonly\n",
      "Creating Multiple textboxes dynamically\n",
      "\n",
      "creating multiple textboxes dynamically\n",
      "that, self or me — which one to prefer in JavaScript?\n",
      "\n",
      "self one prefer javascript\n",
      "Save PHP date string into MySQL database as timestamp\n",
      "\n",
      "save php date string mysql database timestamp\n",
      "How I can fill my DropDownList with Data from a XML File in my ASP.NET Application\n",
      "\n",
      "fill dropdownlist data xml file aspnet application\n",
      "\"Programmatically trigger a jQuery-UI draggable's \"\"drag\"\" event\"\n",
      "\n",
      "programmatically trigger jqueryui draggables drag event\n",
      "How to get the value of a method argument via reflection in Java?\n",
      "\n",
      "get value method argument via reflection java\n",
      "Knockout maping.fromJS for observableArray from json object. Data gets lost\n",
      "\n",
      "knockout mapingfromjs observablearray json object data gets lost\n",
      "Facebook Connect from Localhost, doing some weird stuff\n",
      "\n",
      "facebook connect localhost weird stuff\n",
      "fullcalendar prev / next click\n",
      "\n",
      "fullcalendar prev next click\n",
      "SyntaxError: Unexpected token\n",
      "\n",
      "syntaxerror unexpected token\n",
      "What is the most effective way for float and double comparison?\n",
      "\n",
      "effective way float double comparison\n",
      "\"\"\"gem install rails\"\" fails with DNS error\"\n",
      "\n",
      "gem install rails fails dns error\n",
      "Why is listShuttle component in richFaces not getting updated?\n",
      "\n",
      "listshuttle component richfaces getting updated\n",
      "Laravel Response::download() to show images in Laravel\n",
      "\n",
      "laravel responsedownload show images laravel\n",
      "What is wrong with this Rspec test\n",
      "\n",
      "wrong rspec test\n",
      "Calendar display using Java Swing\n",
      "\n",
      "calendar display using java swing\n",
      "python selenium import my regular firefox profile ( add-ons)\n",
      "\n",
      "python selenium import regular firefox profile addons \n",
      "Random Number between 2 variables/values\n",
      "\n",
      "random number 2 variables values\n",
      "Altering HTTP Responses in Firefox Extension\n",
      "\n",
      "altering http responses firefox extension\n",
      "How do I start a session in a Python web application?\n",
      "\n",
      "start session python web application\n",
      "Align radio buttons horizontally in django forms\n",
      "\n",
      "align radio buttons horizontally django forms\n",
      "Count Number of Rows in a SQLite Database\n",
      "\n",
      "count number rows sqlite database\n",
      "Wordpress - wp_rewrite rules\n",
      "\n",
      "wordpress wp_rewrite rules\n",
      "Removing sheet from Excel 2005 using PHP\n",
      "\n",
      "removing sheet excel 2005 using php\n",
      "php Fatal error: Function name must be a string in\n",
      "\n",
      "php fatal error function name must string\n",
      "\"How to Avoid \"\"Used by another process\"\" When using File.Copy in C#\"\n",
      "\n",
      "avoid used another process using filecopy c#\n",
      "PHP calling a class method with class name as variable string\n",
      "\n",
      "php calling class method class name variable string\n",
      "Vector iterator not dereferencable in for loop\n",
      "\n",
      "vector iterator dereferencable loop\n",
      "mySQL Search Statement with Multiple filters\n",
      "\n",
      "mysql search statement multiple filters\n",
      "PHP: Is there any Bluetooth RFCOMM library?\n",
      "\n",
      "php bluetooth rfcomm library\n",
      "Alternatives to Java's Scanner class for console input\n",
      "\n",
      "alternatives javas scanner class console input\n",
      "PHP not displaying errors\n",
      "\n",
      "php displaying errors\n",
      "how to check whether two matrixes are identical in OpenCV\n",
      "\n",
      "check whether two matrixes identical opencv\n",
      "Open all external links open in a new tab apart from a domain\n",
      "\n",
      "open external links open new tab apart domain\n",
      "Registry.GetValue always return null\n",
      "\n",
      "registrygetvalue always return null\n",
      "Installing eventmachine on windows 8\n",
      "\n",
      "installing eventmachine windows 8\n",
      "Calculate Throughput\n",
      "\n",
      "calculate throughput\n",
      "Want to seperate the integer part and fractional part of float number in python\n",
      "\n",
      "want seperate integer part fractional part float number python\n",
      "How to properly manage Tomcat web apps inside Eclipse?\n",
      "\n",
      "properly manage tomcat web apps inside eclipse\n",
      "Having trouble setting headers in a QNetworkRequest, can't understand why\n",
      "\n",
      "trouble setting headers qnetworkrequest cant understand\n",
      "Extend Request class in Laravel 5\n",
      "\n",
      "extend request class laravel 5\n",
      "What is the difference between matrix() and as.matrix() in r?\n",
      "\n",
      "difference matrix asmatrix r\n",
      "Install ClickOnce without running\n",
      "\n",
      "install clickonce without running\n",
      "jQuery - selected option value contains string\n",
      "\n",
      "jquery selected option value contains string\n",
      "Error while deploying to Tomcat: tomcatManager status code:404, ReasonPhrase:Not Found\n",
      "\n",
      "error deploying tomcat tomcatmanager status code404 reasonphrasenot found\n",
      "Pretty Print Distances for iOS\n",
      "\n",
      "pretty print distances ios\n",
      "error: expected unqualified-id before ‘const’ on line 8\n",
      "\n",
      "error expected unqualifiedid const line 8\n",
      "Mocking Reflection based calls\n",
      "\n",
      "mocking reflection based calls\n",
      "How to set Blank excel cell using POI\n",
      "\n",
      "set blank excel cell using poi\n",
      "XCode - Code Coverage?\n",
      "\n",
      "xcode code coverage\n",
      "Creating an Interactive bar Chart out of Google Analytics Data\n",
      "\n",
      "creating interactive bar chart google analytics data\n",
      "math.h compilation error: expected declaration specifiers or '...' before '('\n",
      "\n",
      "mathh compilation error expected declaration specifiers \n",
      "Disadvantage of object composition over class inheritance\n",
      "\n",
      "disadvantage object composition class inheritance\n",
      "com.mongodb.MongoTimeoutException: Timed out after 10000 ms while waiting to connect\n",
      "\n",
      "commongodbmongotimeoutexception timed 10000 ms waiting connect\n",
      "Python Pandas : How to skip columns when reading a file?\n",
      "\n",
      "python pandas skip columns reading file\n",
      "Unable to get property '1' of undefined or null reference\n",
      "\n",
      "unable get property 1 undefined null reference\n",
      "PyDev-Eclipse Python not configured\n",
      "\n",
      "pydeveclipse python configured\n",
      "Python socket server receive image\n",
      "\n",
      "python socket server receive image\n",
      "What is an Event Handle?\n",
      "\n",
      "event handle\n",
      "LD_LIBRARY_PATH ignored on Android sometimes\n",
      "\n",
      "ld_library_path ignored android sometimes\n",
      "Coin toss with JavaScript and HTML\n",
      "\n",
      "coin toss javascript html\n",
      "Most efficient way to concatenate strings?\n",
      "\n",
      "efficient way concatenate strings\n",
      "java.lang.NullPointerException when trying to read files\n",
      "\n",
      "javalangnullpointerexception trying read files\n",
      "Assigning a lambda to an Action<T>\n",
      "\n",
      "assigning lambda actiont\n",
      "Split string into a list, but keeping the split pattern\n",
      "\n",
      "split string list keeping split pattern\n",
      "Compile C code for Windows 64\n",
      "\n",
      "compile c code windows 64\n",
      "Yii Condition with multiple AND/ORs - Operator Precedence\n",
      "\n",
      "yii condition multiple ors operator precedence\n",
      "How to show SQL queries run in the Rails console?\n",
      "\n",
      "show sql queries run rails console\n",
      "How to change view-state value dynamically?\n",
      "\n",
      "change viewstate value dynamically\n",
      "Best Practice For List of Polymorphic Objects in C++\n",
      "\n",
      "best practice list polymorphic objects c++\n",
      "Javascript: how to get values from all selected checkboxes from a table\n",
      "\n",
      "javascript get values selected checkboxes table\n",
      "In python, how to convert a hex ascii string to raw internal binary string?\n",
      "\n",
      "python convert hex ascii string raw internal binary string\n",
      "Magento multi language rewrites SEO fix?\n",
      "\n",
      "magento multi language rewrites seo fix\n",
      "ul in the form not sending to the $_POST\n",
      "\n",
      "ul form sending _post\n",
      "showing alert box using php and javascript\n",
      "\n",
      "showing alert box using php javascript\n",
      "Google Maps API v3: Looping through and adding polylines to a map\n",
      "\n",
      "google maps api v3 looping adding polylines map\n",
      "PHP remove characters after last occurrence of a character in a string\n",
      "\n",
      "php remove characters last occurrence character string\n",
      "How to use Qt Creator with Visual C++ compiler on windows?\n",
      "\n",
      "use qt creator visual c++ compiler windows\n",
      "Apache spark and python lambda\n",
      "\n",
      "apache spark python lambda\n",
      "Adjusting camera for visible Three.js shape\n",
      "\n",
      "adjusting camera visible threejs shape\n",
      "Python imaging library show() on Windows\n",
      "\n",
      "python imaging library show windows\n",
      "How to open and close a website using default browser with python\n",
      "\n",
      "open close website using default browser python\n",
      "PHP security: 'Nonce' or 'unique form key' problem\n",
      "\n",
      "php security nonce unique form key problem\n",
      "Spring Batch: SimpleJobRepository - Example not working\n",
      "\n",
      "spring batch simplejobrepository example working\n",
      "\"Why am I getting OleDBException \"\"No value given for one or more required parameters?\"\"\"\n",
      "\n",
      "getting oledbexception value given one required parameters\n",
      "Why PHP session is deleted on page reload?\n",
      "\n",
      "php session deleted page reload\n",
      "Vaadin multiple browser windows/tabs\n",
      "\n",
      "vaadin multiple browser windows tabs\n",
      "Frustrating UIWebView Delegate Crash issue\n",
      "\n",
      "frustrating uiwebview delegate crash issue\n",
      "Load factor and capacity of Hash Table\n",
      "\n",
      "load factor capacity hash table\n",
      "How do I format a double to a string and only show decimal digits when necessary?\n",
      "\n",
      "format double string show decimal digits necessary\n",
      "Round off in JAVA\n",
      "\n",
      "round java\n",
      "Using a USB printer with C#, with and without driver or API\n",
      "\n",
      "using usb printer c# without driver api\n",
      "Unbalanced parenthesis error with Regex\n",
      "\n",
      "unbalanced parenthesis error regex\n",
      "Reading an Excel file with C# causes OleDbException to be thrown\n",
      "\n",
      "reading excel file c# causes oledbexception thrown\n",
      "I want to compare the (dt.Rows[1].ItemArray[1].ToString()) with 1,2,3,4 : but does not Work?? show me error\n",
      "\n",
      "want compare dtrows 1 itemarray 1 tostring 1 2 3 4 work show error\n",
      "java.nio.charset.MalformedInputException: Input length = 1\n",
      "\n",
      "javaniocharsetmalformedinputexception input length 1\n",
      "Join two un-related tables using JPA EntityManager\n",
      "\n",
      "join two unrelated tables using jpa entitymanager\n",
      "Ensuring Thread-Safety On Static Methods In C#\n",
      "\n",
      "ensuring threadsafety static methods c#\n",
      "loop focus of input fields inside a form\n",
      "\n",
      "loop focus input fields inside form\n",
      "Current answer for task TextPrepare is:\n",
      " sqlite php readonly\n",
      "creating multiple textboxes dynamically\n",
      "self one prefer javascript\n",
      "save php date...\n"
     ]
    }
   ],
   "source": [
    "prepared_questions = []\n",
    "for line in open('data/text_prepare_tests.tsv', encoding='utf-8'):\n",
    "    print(line)\n",
    "    line = text_prepare(line.strip())\n",
    "    print(line)\n",
    "    prepared_questions.append(line)\n",
    "text_prepare_results = '\\n'.join(prepared_questions)\n",
    "#print('result is \\n %s' %(text_prepare_results))\n",
    "grader.submit_tag('TextPrepare', text_prepare_results)"
   ]
  },
  {
   "cell_type": "markdown",
   "metadata": {},
   "source": [
    "Now we can preprocess the titles using function *text_prepare* and  making sure that the headers don't have bad symbols:"
   ]
  },
  {
   "cell_type": "code",
   "execution_count": 173,
   "metadata": {
    "collapsed": true
   },
   "outputs": [],
   "source": [
    "X_train = [text_prepare(x) for x in X_train]\n",
    "X_val = [text_prepare(x) for x in X_val]\n",
    "X_test = [text_prepare(x) for x in X_test]"
   ]
  },
  {
   "cell_type": "code",
   "execution_count": 174,
   "metadata": {},
   "outputs": [
    {
     "data": {
      "text/plain": [
       "['draw stacked dotplot r',\n",
       " 'mysql select records datetime field less specified value',\n",
       " 'terminate windows phone 81 app',\n",
       " 'get current time specific country via jquery',\n",
       " 'configuring tomcat use ssl',\n",
       " 'awesome nested set plugin add new children tree various levels',\n",
       " 'create map json response ruby rails 3',\n",
       " 'rspec test method called',\n",
       " 'springboot catalina lifecycle exception',\n",
       " 'import data excel mysql database using php']"
      ]
     },
     "execution_count": 174,
     "metadata": {},
     "output_type": "execute_result"
    }
   ],
   "source": [
    "X_train[:10]"
   ]
  },
  {
   "cell_type": "markdown",
   "metadata": {},
   "source": [
    "For each tag and for each word calculate how many times they occur in the train corpus. \n",
    "\n",
    "**Task 2 (WordsTagsCount).** Find 3 most popular tags and 3 most popular words in the train data and submit the results to earn the points."
   ]
  },
  {
   "cell_type": "code",
   "execution_count": 175,
   "metadata": {
    "scrolled": true
   },
   "outputs": [
    {
     "name": "stdout",
     "output_type": "stream",
     "text": [
      "['ruby', 'ruby-on-rails-3', 'json']\n",
      "['draw', 'stacked', 'dotplot', 'r', 'mysql', 'select', 'records', 'datetime', 'field', 'less']\n",
      "['r', 'php', 'mysql', 'c#', 'javascript', 'jquery', 'java', 'ruby-on-rails', 'ruby', 'ruby-on-rails-3']\n",
      "100\n"
     ]
    }
   ],
   "source": [
    "# Dictionary of all tags from train corpus with their counts.\n",
    "tags_counts = {}\n",
    "#tags_counts['0']=0\n",
    "# Dictionary of all words from train corpus with their counts.\n",
    "words_counts = {}\n",
    "print(y_train[6])\n",
    "#x = {}\n",
    "#x['a']=1\n",
    "#print(x)\n",
    "######################################\n",
    "######### YOUR CODE HERE #############\n",
    "######################################\n",
    "#print(y_train[0])\n",
    "#print(len(y_train))\n",
    "for tags in y_train:\n",
    "    #print(index)\n",
    "    for tag in tags:\n",
    "        #tag = y_train[index][0]\n",
    "        #print(tag)\n",
    "        #print(len(tags_counts.keys()))\n",
    "        #each example can have as many tags as you can imagine.\n",
    "        if tag not in tags_counts.keys():\n",
    "            tags_counts[tag] = 1\n",
    "        else:\n",
    "            tags_counts[tag] += 1\n",
    "for sent in X_train:\n",
    "    for word in sent.split(' '):\n",
    "        if word not in words_counts.keys():\n",
    "            words_counts[word] = 1\n",
    "        else:\n",
    "            words_counts[word] += 1\n",
    "print(list(words_counts.keys())[:10])\n",
    "print(list(tags_counts.keys())[:10])\n",
    "print(len(tags_counts))"
   ]
  },
  {
   "cell_type": "markdown",
   "metadata": {},
   "source": [
    "We are assume that *tags_counts* and *words_counts* are dictionaries like `{'some_word_or_tag': frequency}`. After appllying the sorting procedure, results will be look like this: `[('most_popular_word_or_tag', frequency), ('less_popular_word_or_tag', frequency), ...]`. The grader gets the results in the following format (two comma-separated strings with line break):\n",
    "\n",
    "    tag1,tag2,tag3\n",
    "    word1,word2,word3\n",
    "\n",
    "Pay attention that in this assignment you should not submit frequencies or some additional information."
   ]
  },
  {
   "cell_type": "code",
   "execution_count": 176,
   "metadata": {},
   "outputs": [
    {
     "name": "stdout",
     "output_type": "stream",
     "text": [
      "Current answer for task WordsTagsCount is:\n",
      " javascript,c#,java\n",
      "using,php,java...\n",
      "[('javascript', 19078), ('c#', 19077), ('java', 18661)]\n",
      "[('using', 8278), ('php', 5614), ('java', 5501)]\n"
     ]
    }
   ],
   "source": [
    "most_common_tags = sorted(tags_counts.items(), key=lambda x: x[1], reverse=True)[:3]\n",
    "most_common_words = sorted(words_counts.items(), key=lambda x: x[1], reverse=True)[:3]\n",
    "\n",
    "grader.submit_tag('WordsTagsCount', '%s\\n%s' % (','.join(tag for tag, _ in most_common_tags), \n",
    "                                                ','.join(word for word, _ in most_common_words)))\n",
    "print(most_common_tags)\n",
    "print(most_common_words)"
   ]
  },
  {
   "cell_type": "markdown",
   "metadata": {},
   "source": [
    "### Transforming text to a vector\n",
    "\n",
    "Machine Learning algorithms work with numeric data and we cannot use the provided text data \"as is\". There are many ways to transform text data to numeric vectors. In this task you will try to use two of them.\n",
    "\n",
    "#### Bag of words\n",
    "\n",
    "One of the well-known approaches is a *bag-of-words* representation. To create this transformation, follow the steps:\n",
    "1. Find *N* most popular words in train corpus and numerate them. Now we have a dictionary of the most popular words.\n",
    "2. For each title in the corpora create a zero vector with the dimension equals to *N*.\n",
    "3. For each text in the corpora iterate over words which are in the dictionary and increase by 1 the corresponding coordinate.\n",
    "\n",
    "Let's try to do it for a toy example. Imagine that we have *N* = 4 and the list of the most popular words is \n",
    "\n",
    "    ['hi', 'you', 'me', 'are']\n",
    "\n",
    "Then we need to numerate them, for example, like this: \n",
    "\n",
    "    {'hi': 0, 'you': 1, 'me': 2, 'are': 3}\n",
    "\n",
    "And we have the text, which we want to transform to the vector:\n",
    "\n",
    "    'hi how are you'\n",
    "\n",
    "For this text we create a corresponding zero vector \n",
    "\n",
    "    [0, 0, 0, 0]\n",
    "    \n",
    "And interate over all words, and if the word is in the dictionary, we increase the value of the corresponding position in the vector:\n",
    "\n",
    "    'hi':  [1, 0, 0, 0]\n",
    "    'how': [1, 0, 0, 0] # word 'how' is not in our dictionary\n",
    "    'are': [1, 0, 0, 1]\n",
    "    'you': [1, 1, 0, 1]\n",
    "\n",
    "The resulting vector will be \n",
    "\n",
    "    [1, 1, 0, 1]\n",
    "   \n",
    "Implement the described encoding in the function *my_bag_of_words* with the size of the dictionary equals to 5000. To find the most common words use train data. You can test your code using the function *test_my_bag_of_words*."
   ]
  },
  {
   "cell_type": "code",
   "execution_count": 177,
   "metadata": {},
   "outputs": [
    {
     "name": "stdout",
     "output_type": "stream",
     "text": [
      "['using', 'php', 'java', 'file', 'javascript', '', 'error', 'get', 'c#', 'python']\n"
     ]
    }
   ],
   "source": [
    "DICT_SIZE = 5000\n",
    "train_common_words = sorted(words_counts.items(), key=lambda x: x[1], reverse=True)[:5000]\n",
    "train_words = [word for word, _ in train_common_words]\n",
    "WORDS_TO_INDEX = {word:index for index, word in enumerate(train_words)}####### YOUR CODE HERE #######\n",
    "INDEX_TO_WORDS = {index:word for word,index in WORDS_TO_INDEX.items()}####### YOUR CODE HERE #######\n",
    "ALL_WORDS = WORDS_TO_INDEX.keys()\n",
    "\n",
    "def my_bag_of_words(text, words_to_index, dict_size):\n",
    "    \"\"\"\n",
    "        text: a string\n",
    "        dict_size: size of the dictionary\n",
    "        \n",
    "        return a vector which is a bag-of-words representation of 'text'\n",
    "    \"\"\"\n",
    "    result_vector = np.zeros(dict_size)\n",
    "    ######################################\n",
    "    ######### YOUR CODE HERE #############\n",
    "    ######################################\n",
    "    for word in text.split(' '):\n",
    "        if word in words_to_index.keys():\n",
    "            result_vector[words_to_index[word]] +=1\n",
    "    return result_vector\n",
    "print(train_words[:10])"
   ]
  },
  {
   "cell_type": "code",
   "execution_count": 178,
   "metadata": {
    "collapsed": true
   },
   "outputs": [],
   "source": [
    "def test_my_bag_of_words():\n",
    "    words_to_index = {'hi': 0, 'you': 1, 'me': 2, 'are': 3}\n",
    "    examples = ['hi how are you']\n",
    "    answers = [[1, 1, 0, 1]]\n",
    "    for ex, ans in zip(examples, answers):\n",
    "        if (my_bag_of_words(ex, words_to_index, 4) != ans).any():\n",
    "            return \"Wrong answer for the case: '%s'\" % ex\n",
    "    return 'Basic tests are passed.'"
   ]
  },
  {
   "cell_type": "code",
   "execution_count": 179,
   "metadata": {},
   "outputs": [
    {
     "name": "stdout",
     "output_type": "stream",
     "text": [
      "Basic tests are passed.\n"
     ]
    }
   ],
   "source": [
    "print(test_my_bag_of_words())"
   ]
  },
  {
   "cell_type": "markdown",
   "metadata": {},
   "source": [
    "Now apply the implemented function to all samples (this might take up to a minute):"
   ]
  },
  {
   "cell_type": "code",
   "execution_count": 180,
   "metadata": {
    "collapsed": true
   },
   "outputs": [],
   "source": [
    "from scipy import sparse as sp_sparse"
   ]
  },
  {
   "cell_type": "code",
   "execution_count": 181,
   "metadata": {},
   "outputs": [
    {
     "name": "stdout",
     "output_type": "stream",
     "text": [
      "X_train shape  (100000, 5000)\n",
      "X_val shape  (30000, 5000)\n",
      "X_test shape  (20000, 5000)\n"
     ]
    }
   ],
   "source": [
    "X_train_mybag = sp_sparse.vstack([sp_sparse.csr_matrix(my_bag_of_words(text, WORDS_TO_INDEX, DICT_SIZE)) for text in X_train])\n",
    "X_val_mybag = sp_sparse.vstack([sp_sparse.csr_matrix(my_bag_of_words(text, WORDS_TO_INDEX, DICT_SIZE)) for text in X_val])\n",
    "X_test_mybag = sp_sparse.vstack([sp_sparse.csr_matrix(my_bag_of_words(text, WORDS_TO_INDEX, DICT_SIZE)) for text in X_test])\n",
    "print('X_train shape ', X_train_mybag.shape)\n",
    "print('X_val shape ', X_val_mybag.shape)\n",
    "print('X_test shape ', X_test_mybag.shape)"
   ]
  },
  {
   "cell_type": "markdown",
   "metadata": {},
   "source": [
    "As you might notice, we transform the data to sparse representation, to store the useful information efficiently. There are many [types](https://docs.scipy.org/doc/scipy/reference/sparse.html) of such representations, however slkearn algorithms can work only with [csr](https://docs.scipy.org/doc/scipy/reference/generated/scipy.sparse.csr_matrix.html#scipy.sparse.csr_matrix) matrix, so we will use this one."
   ]
  },
  {
   "cell_type": "markdown",
   "metadata": {},
   "source": [
    "**Task 3 (BagOfWords).** For the 11th row in *X_train_mybag* find how many non-zero elements it has. In this task the answer (variable *non_zero_elements_count*) should be a number, e.g. 20."
   ]
  },
  {
   "cell_type": "code",
   "execution_count": 182,
   "metadata": {},
   "outputs": [
    {
     "name": "stdout",
     "output_type": "stream",
     "text": [
      "Current answer for task BagOfWords is:\n",
      " 7...\n"
     ]
    }
   ],
   "source": [
    "row = X_train_mybag[10].toarray()[0]\n",
    "#print(X_train_mybag[10])\n",
    "non_zero_elements_count = np.sum(row!=0)####### YOUR CODE HERE #######\n",
    "\n",
    "grader.submit_tag('BagOfWords', str(non_zero_elements_count))"
   ]
  },
  {
   "cell_type": "markdown",
   "metadata": {},
   "source": [
    "#### TF-IDF\n",
    "\n",
    "The second approach extends the bag-of-words framework by taking into account total frequencies of words in the corpora. It helps to penalize too frequent words and provide better features space. \n",
    "\n",
    "Implement function *tfidf_features* using class [TfidfVectorizer](http://scikit-learn.org/stable/modules/generated/sklearn.feature_extraction.text.TfidfVectorizer.html) from *scikit-learn*. Use *train* corpus to train a vectorizer. Don't forget to take a look into the arguments that you can pass to it. We suggest that you filter out too rare words (occur less than in 5 titles) and too frequent words (occur more than in 90% of the titles). Also, use bigrams along with unigrams in your vocabulary. "
   ]
  },
  {
   "cell_type": "code",
   "execution_count": 183,
   "metadata": {
    "collapsed": true
   },
   "outputs": [],
   "source": [
    "from sklearn.feature_extraction.text import TfidfVectorizer"
   ]
  },
  {
   "cell_type": "code",
   "execution_count": 184,
   "metadata": {
    "collapsed": true
   },
   "outputs": [],
   "source": [
    "def tfidf_features(X_train, X_val, X_test):\n",
    "    \"\"\"\n",
    "        X_train, X_val, X_test — samples        \n",
    "        return TF-IDF vectorized representation of each sample and vocabulary\n",
    "    \"\"\"\n",
    "    # Create TF-IDF vectorizer with a proper parameters choice\n",
    "    # Fit the vectorizer on the train set\n",
    "    # Transform the train, test, and val sets and return the result\n",
    "    \n",
    "    \n",
    "    tfidf_vectorizer = TfidfVectorizer(analyzer='word',token_pattern='(\\S+)',ngram_range=(1,2),max_df=0.9,min_df=5) \n",
    "    tfidf_vectorizer.fit(X_train)\n",
    "    X_train = tfidf_vectorizer.transform(X_train)\n",
    "    X_val = tfidf_vectorizer.transform(X_val)\n",
    "    X_test = tfidf_vectorizer.transform(X_test)\n",
    "    \n",
    "    return X_train, X_val, X_test, tfidf_vectorizer.vocabulary_"
   ]
  },
  {
   "cell_type": "markdown",
   "metadata": {},
   "source": [
    "Once you have done text preprocessing, always have a look at the results. Be very careful at this step, because the performance of future models will drastically depend on it. \n",
    "\n",
    "In this case, check whether you have c++ or c# in your vocabulary, as they are obviously important tokens in our tags prediction task:"
   ]
  },
  {
   "cell_type": "code",
   "execution_count": 185,
   "metadata": {
    "collapsed": true
   },
   "outputs": [],
   "source": [
    "X_train_tfidf, X_val_tfidf, X_test_tfidf, tfidf_vocab = tfidf_features(X_train, X_val, X_test)\n",
    "tfidf_reversed_vocab = {i:word for word,i in tfidf_vocab.items()}"
   ]
  },
  {
   "cell_type": "code",
   "execution_count": 186,
   "metadata": {
    "scrolled": true
   },
   "outputs": [
    {
     "name": "stdout",
     "output_type": "stream",
     "text": [
      "[('zurb foundation', 18299), ('zurb', 18298), ('zooming', 18297), ('zoom level', 18296), ('zoom', 18295), ('zone', 18294), ('zipping', 18293), ('zipped', 18292), ('zipfile', 18291), ('zip file', 18290), ('zip code', 18289), ('zip archive', 18288), ('zip', 18287), ('zindex', 18286), ('zf2', 18285), ('zeros', 18284), ('zeroes', 18283), ('zero', 18282), ('zend framework', 18281), ('zend', 18280), ('z', 18279), ('yyyymmdd', 18278), ('yyyy format', 18277), ('yyyy', 18276), ('youtube videos', 18275), ('youtube video', 18274), ('youtube iframe', 18273), ('youtube data', 18272), ('youtube api', 18271), ('youtube', 18270)]\n",
      "True\n",
      "True\n"
     ]
    }
   ],
   "source": [
    "######### YOUR CODE HERE #############\n",
    "print(sorted(tfidf_vocab.items(),key=lambda x:x[1],reverse=True)[:30])\n",
    "print('c++' in list(tfidf_vocab.keys()))\n",
    "print('c#' in list(tfidf_vocab.keys()))"
   ]
  },
  {
   "cell_type": "markdown",
   "metadata": {},
   "source": [
    "If you can't find it, we need to understand how did it happen that we lost them? It happened during the built-in tokenization of TfidfVectorizer. Luckily, we can influence on this process. Get back to the function above and use '(\\S+)' regexp as a *token_pattern* in the constructor of the vectorizer.  "
   ]
  },
  {
   "cell_type": "markdown",
   "metadata": {},
   "source": [
    "Now, use this transormation for the data and check again."
   ]
  },
  {
   "cell_type": "code",
   "execution_count": null,
   "metadata": {
    "collapsed": true
   },
   "outputs": [],
   "source": [
    "######### YOUR CODE HERE #############"
   ]
  },
  {
   "cell_type": "markdown",
   "metadata": {},
   "source": [
    "### MultiLabel classifier\n",
    "\n",
    "As we have noticed before, in this task each example can have multiple tags. To deal with such kind of prediction, we need to transform labels in a binary form and the prediction will be a mask of 0s and 1s. For this purpose it is convenient to use [MultiLabelBinarizer](http://scikit-learn.org/stable/modules/generated/sklearn.preprocessing.MultiLabelBinarizer.html) from *sklearn*."
   ]
  },
  {
   "cell_type": "code",
   "execution_count": 187,
   "metadata": {
    "collapsed": true
   },
   "outputs": [],
   "source": [
    "from sklearn.preprocessing import MultiLabelBinarizer"
   ]
  },
  {
   "cell_type": "code",
   "execution_count": 188,
   "metadata": {
    "scrolled": true
   },
   "outputs": [
    {
     "name": "stdout",
     "output_type": "stream",
     "text": [
      "True\n",
      "3344\n",
      "False\n"
     ]
    }
   ],
   "source": [
    "print('ruby-on-rails-3' in list(tags_counts.keys()))\n",
    "print(tags_counts['ruby-on-rails'])\n",
    "#print(sorted(tags_counts.keys()))\n",
    "mlb = MultiLabelBinarizer(classes=sorted(tags_counts.keys()))\n",
    "print('ruby-on-rails-3' in y_val)\n",
    "y_train = mlb.fit_transform(y_train)\n",
    "y_val = mlb.fit_transform(y_val)"
   ]
  },
  {
   "cell_type": "markdown",
   "metadata": {},
   "source": [
    "Implement the function *train_classifier* for training a classifier. In this task we suggest to use One-vs-Rest approach, which is implemented in [OneVsRestClassifier](http://scikit-learn.org/stable/modules/generated/sklearn.multiclass.OneVsRestClassifier.html) class. In this approach *k* classifiers (= number of tags) are trained. As a basic classifier, use [LogisticRegression](http://scikit-learn.org/stable/modules/generated/sklearn.linear_model.LogisticRegression.html). It is one of the simplest methods, but often it performs good enough in text classification tasks. It might take some time, because a number of classifiers to train is large."
   ]
  },
  {
   "cell_type": "code",
   "execution_count": 189,
   "metadata": {
    "collapsed": true
   },
   "outputs": [],
   "source": [
    "from sklearn.multiclass import OneVsRestClassifier\n",
    "from sklearn.linear_model import LogisticRegression, RidgeClassifier"
   ]
  },
  {
   "cell_type": "code",
   "execution_count": 190,
   "metadata": {
    "collapsed": true
   },
   "outputs": [],
   "source": [
    "def train_classifier(X_train, y_train):\n",
    "    \"\"\"\n",
    "      X_train, y_train — training data\n",
    "      \n",
    "      return: trained classifier\n",
    "    \"\"\"\n",
    "    \n",
    "    # Create and fit LogisticRegression wraped into OneVsRestClassifier.\n",
    "\n",
    "    ######################################\n",
    "    ######### YOUR CODE HERE #############\n",
    "    ######################################\n",
    "    return OneVsRestClassifier(LogisticRegression()).fit(X_train, y_train)"
   ]
  },
  {
   "cell_type": "markdown",
   "metadata": {},
   "source": [
    "Train the classifiers for different data transformations: *bag-of-words* and *tf-idf*."
   ]
  },
  {
   "cell_type": "code",
   "execution_count": 124,
   "metadata": {
    "collapsed": true
   },
   "outputs": [],
   "source": [
    "classifier_mybag = train_classifier(X_train_mybag, y_train)\n",
    "classifier_tfidf = train_classifier(X_train_tfidf, y_train)"
   ]
  },
  {
   "cell_type": "markdown",
   "metadata": {},
   "source": [
    "Now you can create predictions for the data. You will need two types of predictions: labels and scores."
   ]
  },
  {
   "cell_type": "code",
   "execution_count": 125,
   "metadata": {
    "collapsed": true
   },
   "outputs": [],
   "source": [
    "y_val_predicted_labels_mybag = classifier_mybag.predict(X_val_mybag)\n",
    "y_val_predicted_scores_mybag = classifier_mybag.decision_function(X_val_mybag)\n",
    "\n",
    "y_val_predicted_labels_tfidf = classifier_tfidf.predict(X_val_tfidf)\n",
    "y_val_predicted_scores_tfidf = classifier_tfidf.decision_function(X_val_tfidf)"
   ]
  },
  {
   "cell_type": "markdown",
   "metadata": {},
   "source": [
    "Now take a look at how classifier, which uses TF-IDF, works for a few examples:"
   ]
  },
  {
   "cell_type": "code",
   "execution_count": 126,
   "metadata": {},
   "outputs": [
    {
     "name": "stdout",
     "output_type": "stream",
     "text": [
      "Title:\todbc_exec always fail\n",
      "True labels:\tphp,sql\n",
      "Predicted labels:\t\n",
      "\n",
      "\n",
      "Title:\taccess a base classes variable within a child class\n",
      "True labels:\tjavascript\n",
      "Predicted labels:\t\n",
      "\n",
      "\n",
      "Title:\tcontenttype application json required rails\n",
      "True labels:\truby,ruby-on-rails\n",
      "Predicted labels:\tjson,ruby-on-rails\n",
      "\n",
      "\n"
     ]
    }
   ],
   "source": [
    "y_val_pred_inversed = mlb.inverse_transform(y_val_predicted_labels_tfidf)\n",
    "y_val_inversed = mlb.inverse_transform(y_val)\n",
    "for i in range(3):\n",
    "    print('Title:\\t{}\\nTrue labels:\\t{}\\nPredicted labels:\\t{}\\n\\n'.format(\n",
    "        X_val[i],\n",
    "        ','.join(y_val_inversed[i]),\n",
    "        ','.join(y_val_pred_inversed[i])\n",
    "    ))"
   ]
  },
  {
   "cell_type": "markdown",
   "metadata": {},
   "source": [
    "Now, we would need to compare the results of different predictions, e.g. to see whether TF-IDF transformation helps or to try different regularization techniques in logistic regression. For all these experiments, we need to setup evaluation procedure. "
   ]
  },
  {
   "cell_type": "markdown",
   "metadata": {},
   "source": [
    "### Evaluation\n",
    "\n",
    "To evaluate the results we will use several classification metrics:\n",
    " - [Accuracy](http://scikit-learn.org/stable/modules/generated/sklearn.metrics.accuracy_score.html)\n",
    " - [F1-score](http://scikit-learn.org/stable/modules/generated/sklearn.metrics.f1_score.html)\n",
    " - [Area under ROC-curve](http://scikit-learn.org/stable/modules/generated/sklearn.metrics.roc_auc_score.html)\n",
    " - [Area under precision-recall curve](http://scikit-learn.org/stable/modules/generated/sklearn.metrics.average_precision_score.html#sklearn.metrics.average_precision_score) \n",
    " \n",
    "Make sure you are familiar with all of them. How would you expect the things work for the multi-label scenario? Read about micro/macro/weighted averaging following the sklearn links provided above."
   ]
  },
  {
   "cell_type": "code",
   "execution_count": 191,
   "metadata": {
    "collapsed": true
   },
   "outputs": [],
   "source": [
    "from sklearn.metrics import accuracy_score\n",
    "from sklearn.metrics import f1_score\n",
    "from sklearn.metrics import roc_auc_score \n",
    "from sklearn.metrics import average_precision_score\n",
    "from sklearn.metrics import recall_score"
   ]
  },
  {
   "cell_type": "markdown",
   "metadata": {},
   "source": [
    "Implement the function *print_evaluation_scores* which calculates and prints to stdout:\n",
    " - *accuracy*\n",
    " - *F1-score macro/micro/weighted*\n",
    " - *Precision macro/micro/weighted*"
   ]
  },
  {
   "cell_type": "code",
   "execution_count": 192,
   "metadata": {
    "collapsed": true
   },
   "outputs": [],
   "source": [
    "def print_evaluation_scores(y_val, predicted):\n",
    "    \n",
    "    ######################################\n",
    "    ######### YOUR CODE HERE #############\n",
    "    ######################################\n",
    "    print('accuracy score: %f' %(accuracy_score(y_val,predicted)))\n",
    "    print('f1 score macro: %f' %(f1_score(y_val,predicted,average='macro')))\n",
    "    print('f1 score micro: %f' %(f1_score(y_val,predicted,average='micro')))\n",
    "    print('f1 score weighted: %f' %(f1_score(y_val,predicted,average='weighted')))\n",
    "    print('average_precision_score macro: %f' %(average_precision_score(y_val,predicted,average='macro')))\n",
    "    print('average_precision_score micro: %f' %(average_precision_score(y_val,predicted,average='micro')))\n",
    "    print('average_precision_score weighted: %f' %(average_precision_score(y_val,predicted,average='weighted')))"
   ]
  },
  {
   "cell_type": "code",
   "execution_count": 129,
   "metadata": {
    "scrolled": true
   },
   "outputs": [
    {
     "name": "stdout",
     "output_type": "stream",
     "text": [
      "Bag-of-words\n",
      "accuracy score: 0.357667\n",
      "f1 score macro: 0.504360\n",
      "f1 score micro: 0.670915\n",
      "f1 score weighted: 0.648602\n",
      "average_precision_score macro: 0.561165\n",
      "average_precision_score micro: 0.708245\n",
      "average_precision_score weighted: 0.697395\n",
      "Tfidf\n",
      "accuracy score: 0.330133\n",
      "f1 score macro: 0.439469\n",
      "f1 score micro: 0.637640\n",
      "f1 score weighted: 0.609979\n",
      "average_precision_score macro: 0.537895\n",
      "average_precision_score micro: 0.699633\n",
      "average_precision_score weighted: 0.686098\n"
     ]
    }
   ],
   "source": [
    "print('Bag-of-words')\n",
    "print_evaluation_scores(y_val, y_val_predicted_labels_mybag)\n",
    "print('Tfidf')\n",
    "print_evaluation_scores(y_val, y_val_predicted_labels_tfidf)"
   ]
  },
  {
   "cell_type": "markdown",
   "metadata": {},
   "source": [
    "You might also want to plot some generalization of the [ROC curve](http://scikit-learn.org/stable/modules/model_evaluation.html#receiver-operating-characteristic-roc) for the case of multi-label classification. Provided function *roc_auc* can make it for you. The input parameters of this function are:\n",
    " - true labels\n",
    " - decision functions scores\n",
    " - number of classes"
   ]
  },
  {
   "cell_type": "code",
   "execution_count": 130,
   "metadata": {
    "collapsed": true
   },
   "outputs": [],
   "source": [
    "from metrics import roc_auc\n",
    "%matplotlib inline"
   ]
  },
  {
   "cell_type": "code",
   "execution_count": 131,
   "metadata": {},
   "outputs": [
    {
     "name": "stdout",
     "output_type": "stream",
     "text": [
      "100\n"
     ]
    },
    {
     "data": {
      "image/png": "[encoded data removed]",
      "text/plain": [
       "<matplotlib.figure.Figure at 0x2a8b07bf4a8>"
      ]
     },
     "metadata": {},
     "output_type": "display_data"
    }
   ],
   "source": [
    "print(len(tags_counts))\n",
    "n_classes = len(tags_counts)\n",
    "roc_auc(y_val, y_val_predicted_scores_mybag, n_classes)"
   ]
  },
  {
   "cell_type": "code",
   "execution_count": 132,
   "metadata": {},
   "outputs": [
    {
     "data": {
      "image/png": "[encoded data removed]",
      "text/plain": [
       "<matplotlib.figure.Figure at 0x2a8afc907f0>"
      ]
     },
     "metadata": {},
     "output_type": "display_data"
    }
   ],
   "source": [
    "n_classes = len(tags_counts)\n",
    "roc_auc(y_val, y_val_predicted_scores_tfidf, n_classes)"
   ]
  },
  {
   "cell_type": "markdown",
   "metadata": {},
   "source": [
    "**Task 4 (MultilabelClassification).** Once we have the evaluation set up, we suggest that you experiment a bit with training your classifiers. We will use *F1-score weighted* as an evaluation metric. Our recommendation:\n",
    "- compare the quality of the bag-of-words and TF-IDF approaches and chose one of them.\n",
    "- for the chosen one, try *L1* and *L2*-regularization techniques in Logistic Regression with different coefficients (e.g. C equal to 0.1, 1, 10, 100).\n",
    "\n",
    "You also could try other improvements of the preprocessing / model, if you want. "
   ]
  },
  {
   "cell_type": "code",
   "execution_count": 193,
   "metadata": {},
   "outputs": [
    {
     "name": "stdout",
     "output_type": "stream",
     "text": [
      "0.65917752984\n"
     ]
    }
   ],
   "source": [
    "def train_classifier(X_train, y_train, penalty, C):\n",
    "    \"\"\"\n",
    "      X_train, y_train — training data\n",
    "      \n",
    "      return: trained classifier\n",
    "    \"\"\"\n",
    "    \n",
    "    # Create and fit LogisticRegression wraped into OneVsRestClassifier.\n",
    "\n",
    "    ######################################\n",
    "    ######### YOUR CODE HERE #############\n",
    "    ######################################\n",
    "    return OneVsRestClassifier(LogisticRegression(penalty=penalty,C=C)).fit(X_train, y_train)\n",
    "#classifier_mybag_L1_01 = train_classifier(X_train_mybag, y_train,'l1',1.)\n",
    "classifier_mybag_L1_1 = train_classifier(X_train_mybag, y_train,'l1',2.)\n",
    "#classifier_mybag_L1_10 = train_classifier(X_train_mybag, y_train,'l1',4.)\n",
    "#classifier_mybag_L1_100 = train_classifier(X_train_mybag, y_train,'l1',8.)\n",
    "#classifier_mybag_L2_01 = train_classifier(X_train_mybag, y_train,'l2',1.)\n",
    "#classifier_mybag_L2_1 = train_classifier(X_train_mybag, y_train,'l2',2.)\n",
    "#classifier_mybag_L2_10 = train_classifier(X_train_mybag, y_train,'l2',4.)\n",
    "#classifier_mybag_L2_100 = train_classifier(X_train_mybag, y_train,'l2',8.)\n",
    "#print(f1_score(y_val,classifier_mybag_L1_01.predict(X_val_mybag),average='weighted'))\n",
    "print(f1_score(y_val,classifier_mybag_L1_1.predict(X_val_mybag),average='weighted'))\n",
    "#print(f1_score(y_val,classifier_mybag_L1_10.predict(X_val_mybag),average='weighted'))\n",
    "#print(f1_score(y_val,classifier_mybag_L1_100.predict(X_val_mybag),average='weighted'))\n",
    "#print(f1_score(y_val,classifier_mybag_L2_01.predict(X_val_mybag),average='weighted'))\n",
    "#print(f1_score(y_val,classifier_mybag_L2_1.predict(X_val_mybag),average='weighted'))\n",
    "#print(f1_score(y_val,classifier_mybag_L2_10.predict(X_val_mybag),average='weighted'))\n",
    "#print(f1_score(y_val,classifier_mybag_L2_100.predict(X_val_mybag),average='weighted'))"
   ]
  },
  {
   "cell_type": "markdown",
   "metadata": {},
   "source": [
    "When you are happy with the quality, create predictions for *test* set, which you will submit to Coursera."
   ]
  },
  {
   "cell_type": "code",
   "execution_count": 194,
   "metadata": {},
   "outputs": [
    {
     "name": "stdout",
     "output_type": "stream",
     "text": [
      "Current answer for task MultilabelClassification is:\n",
      " 0\tmysql,php\n",
      "1\tjavascript\n",
      "2\t\n",
      "3\tjavascript,jquery\n",
      "4\tandroid,java\n",
      "5\tphp,xml\n",
      "6\tajax,json,web-services\n",
      "7\t...\n"
     ]
    }
   ],
   "source": [
    "test_predictions = classifier_mybag_L1_1.predict(X_test_mybag)######### YOUR CODE HERE #############\n",
    "test_pred_inversed = mlb.inverse_transform(test_predictions)\n",
    "\n",
    "test_predictions_for_submission = '\\n'.join('%i\\t%s' % (i, ','.join(row)) for i, row in enumerate(test_pred_inversed))\n",
    "grader.submit_tag('MultilabelClassification', test_predictions_for_submission)"
   ]
  },
  {
   "cell_type": "markdown",
   "metadata": {},
   "source": [
    "### Analysis of the most important features"
   ]
  },
  {
   "cell_type": "markdown",
   "metadata": {},
   "source": [
    "Finally, it is usually a good idea to look at the features (words or n-grams) that are used with the largest weigths in your logistic regression model."
   ]
  },
  {
   "cell_type": "markdown",
   "metadata": {},
   "source": [
    "Implement the function *print_words_for_tag* to find them. Get back to sklearn documentation on [OneVsRestClassifier](http://scikit-learn.org/stable/modules/generated/sklearn.multiclass.OneVsRestClassifier.html) and [LogisticRegression](http://scikit-learn.org/stable/modules/generated/sklearn.linear_model.LogisticRegression.html) if needed."
   ]
  },
  {
   "cell_type": "code",
   "execution_count": 195,
   "metadata": {
    "collapsed": true
   },
   "outputs": [],
   "source": [
    "def print_words_for_tag(classifier, tag, tags_classes, index_to_words, all_words):\n",
    "    \"\"\"\n",
    "        classifier: trained classifier\n",
    "        tag: particular tag\n",
    "        tags_classes: a list of classes names from MultiLabelBinarizer\n",
    "        index_to_words: index_to_words transformation\n",
    "        all_words: all words in the dictionary\n",
    "        \n",
    "        return nothing, just print top 5 positive and top 5 negative words for current tag\n",
    "    \"\"\"\n",
    "    print('Tag:\\t{}'.format(tag))\n",
    "    \n",
    "    # Extract an estimator from the classifier for the given tag.\n",
    "    # Extract feature coefficients from the estimator. \n",
    "    estimator = classifier.estimators_[tags_classes.index(tag)]\n",
    "    features = estimator.coef_\n",
    "    ######################################\n",
    "    ######### YOUR CODE HERE #############\n",
    "    ######################################\n",
    "    #print(estimator.coef_.shape)\n",
    "    sorted_features = features.argsort()\n",
    "    print(sorted_features[0,-5:])\n",
    "    print(sorted_features[0,:5])\n",
    "    top_positive_words = [index_to_words[index] for index in sorted_features[0,-5:]]# top-5 words sorted by the coefficiens.\n",
    "    top_negative_words = [index_to_words[index] for index in sorted_features[0,:5]]# bottom-5 words  sorted by the coefficients.\n",
    "    print('Top positive words:\\t{}'.format(', '.join(top_positive_words)))\n",
    "    print('Top negative words:\\t{}\\n'.format(', '.join(top_negative_words)))"
   ]
  },
  {
   "cell_type": "code",
   "execution_count": 136,
   "metadata": {},
   "outputs": [
    {
     "name": "stdout",
     "output_type": "stream",
     "text": [
      "5000\n",
      "19260\n",
      "Tag:\tc\n",
      "[ 7351 13218 14814 10591  2569]\n",
      "[ 9210 12684 13491  9404  2595]\n",
      "Top positive words:\tgcc, printf, scanf, malloc, c\n",
      "Top negative words:\tjava, php, python, javascript, c#\n",
      "\n",
      "Tag:\tc++\n",
      "[12121 10927  2371 13631  2693]\n",
      "[ 9210 12684 13491  9404  2595]\n",
      "Top positive words:\topencv, mfc, boost, qt, c++\n",
      "Top negative words:\tjava, php, python, javascript, c#\n",
      "\n",
      "Tag:\tlinux\n",
      "[ 1200 15381  2569 17285 10185]\n",
      "[ 9404  2595  9595  1716 10847]\n",
      "Top positive words:\taddress, shared, c, ubuntu, linux\n",
      "Top negative words:\tjavascript, c#, jquery, array, method\n",
      "\n"
     ]
    }
   ],
   "source": [
    "print(len(ALL_WORDS))\n",
    "print(len(tfidf_reversed_vocab))\n",
    "print_words_for_tag(classifier_tfidf, 'c', mlb.classes, tfidf_reversed_vocab, ALL_WORDS)\n",
    "print_words_for_tag(classifier_tfidf, 'c++', mlb.classes, tfidf_reversed_vocab, ALL_WORDS)\n",
    "print_words_for_tag(classifier_tfidf, 'linux', mlb.classes, tfidf_reversed_vocab, ALL_WORDS)"
   ]
  },
  {
   "cell_type": "markdown",
   "metadata": {},
   "source": [
    "### Authorization & Submission\n",
    "To submit assignment parts to Cousera platform, please, enter your e-mail and token into variables below. You can generate token on this programming assignment page. <b>Note:</b> Token expires 30 minutes after generation."
   ]
  },
  {
   "cell_type": "code",
   "execution_count": 196,
   "metadata": {},
   "outputs": [
    {
     "name": "stdout",
     "output_type": "stream",
     "text": [
      "You want to submit these parts:\n",
      "Task TextPrepare:\n",
      " sqlite php readonly\n",
      "creating multiple textboxes dynamically\n",
      "self one prefer javascript\n",
      "save php date...\n",
      "Task WordsTagsCount:\n",
      " javascript,c#,java\n",
      "using,php,java...\n",
      "Task BagOfWords:\n",
      " 7...\n",
      "Task MultilabelClassification:\n",
      " 0\tmysql,php\n",
      "1\tjavascript\n",
      "2\t\n",
      "3\tjavascript,jquery\n",
      "4\tandroid,java\n",
      "5\tphp,xml\n",
      "6\tajax,json,web-services\n",
      "7\t...\n"
     ]
    }
   ],
   "source": [
    "grader.status()"
   ]
  },
  {
   "cell_type": "code",
   "execution_count": 198,
   "metadata": {
    "scrolled": true
   },
   "outputs": [
    {
     "name": "stdout",
     "output_type": "stream",
     "text": [
      "You want to submit these parts:\n",
      "Task TextPrepare:\n",
      " sqlite php readonly\n",
      "creating multiple textboxes dynamically\n",
      "self one prefer javascript\n",
      "save php date...\n",
      "Task WordsTagsCount:\n",
      " javascript,c#,java\n",
      "using,php,java...\n",
      "Task BagOfWords:\n",
      " 7...\n",
      "Task MultilabelClassification:\n",
      " 0\tmysql,php\n",
      "1\tjavascript\n",
      "2\t\n",
      "3\tjavascript,jquery\n",
      "4\tandroid,java\n",
      "5\tphp,xml\n",
      "6\tajax,json,web-services\n",
      "7\t...\n"
     ]
    }
   ],
   "source": [
    "STUDENT_EMAIL = 'chenzhi2223@gmail.com'# EMAIL \n",
    "STUDENT_TOKEN = 'Mgy4YP9VYCblli2C'# TOKEN \n",
    "grader.status()"
   ]
  },
  {
   "cell_type": "markdown",
   "metadata": {},
   "source": [
    "If you want to submit these answers, run cell below"
   ]
  },
  {
   "cell_type": "code",
   "execution_count": 199,
   "metadata": {},
   "outputs": [
    {
     "name": "stdout",
     "output_type": "stream",
     "text": [
      "Submitted to Coursera platform. See results on assignment page!\n"
     ]
    }
   ],
   "source": [
    "grader.submit(STUDENT_EMAIL, STUDENT_TOKEN)"
   ]
  },
  {
   "cell_type": "code",
   "execution_count": null,
   "metadata": {
    "collapsed": true
   },
   "outputs": [],
   "source": []
  }
 ],
 "metadata": {
  "kernelspec": {
   "display_name": "Python 3",
   "language": "python",
   "name": "python3"
  },
  "language_info": {
   "codemirror_mode": {
    "name": "ipython",
    "version": 3
   },
   "file_extension": ".py",
   "mimetype": "text/x-python",
   "name": "python",
   "nbconvert_exporter": "python",
   "pygments_lexer": "ipython3",
   "version": "3.6.1"
  }
 },
 "nbformat": 4,
 "nbformat_minor": 2
}
